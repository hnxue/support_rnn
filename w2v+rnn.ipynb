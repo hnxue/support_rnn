{
 "cells": [
  {
   "cell_type": "code",
   "execution_count": 2,
   "metadata": {},
   "outputs": [],
   "source": [
    "import gensim\n",
    "import numpy as np\n",
    "import pandas as pd\n",
    "import math\n",
    "import random\n",
    "import json\n",
    "import re\n",
    "import pickle\n",
    "import time\n",
    "import nltk\n",
    "import os\n",
    "import io\n",
    "from gensim.models import Word2Vec\n",
    "from gensim.test.utils import get_tmpfile\n",
    "from gensim.models import KeyedVectors\n",
    "import tensorflow as tf\n",
    "import matplotlib.pyplot as plt\n",
    "from matplotlib.pyplot import figure\n",
    "from scipy.stats.stats import pearsonr, chisquare\n",
    "from sklearn.utils import shuffle\n",
    "from keras.optimizers import adam\n",
    "from keras.models import load_model"
   ]
  },
  {
   "cell_type": "code",
   "execution_count": 3,
   "metadata": {},
   "outputs": [],
   "source": [
    "def word_tokenizer(corpus):\n",
    "    \"\"\"tokenize a list of posts\"\"\"\n",
    "    \n",
    "    tokens = []\n",
    "    for text in corpus:\n",
    "        if type(text) is not str:\n",
    "            text = str(text)\n",
    "        text = re.sub(r'([^A-Za-z0-9 \\']+)', r' \\1 ', text)\n",
    "        text = text.replace(\"\\'\", \"\\'\")\n",
    "        tokens.append(text.split())\n",
    "    return tokens"
   ]
  },
  {
   "cell_type": "code",
   "execution_count": 4,
   "metadata": {},
   "outputs": [],
   "source": [
    "def sent_tokenizer(corpus):\n",
    "    \"\"\"split a paragraph to individual sentences\"\"\"\n",
    "    \n",
    "    sents = [nltk.tokenize.sent_tokenize(sent) for sent in corpus]\n",
    "    return sents"
   ]
  },
  {
   "cell_type": "code",
   "execution_count": 5,
   "metadata": {},
   "outputs": [],
   "source": [
    "def hist_plot(hist, baseline):\n",
    "    \"\"\"plot accuracy and loss for a RNN model, compared with baseline accuracy\"\"\"\n",
    "    plt.figure(figsize=(14,5))\n",
    "    plt.subplot(1, 2, 1)\n",
    "    plt.plot(hist.history['accuracy'])\n",
    "    plt.plot(hist.history['val_accuracy'])\n",
    "    plt.plot(baseline)\n",
    "    plt.title('model accuracy')\n",
    "    plt.ylabel('accuracy')\n",
    "    plt.xlabel('epoch')\n",
    "    plt.legend(['train', 'test'], loc='upper left')\n",
    "    \n",
    "    plt.subplot(1, 2, 2)\n",
    "    plt.plot(hist.history['loss'])\n",
    "    plt.plot(hist.history['val_loss'])\n",
    "    plt.title('model loss')\n",
    "    plt.ylabel('loss')\n",
    "    plt.xlabel('epoch')\n",
    "    plt.legend(['train', 'test'], loc='upper right')\n",
    "    \n",
    "    plt.show()\n",
    "    "
   ]
  },
  {
   "cell_type": "code",
   "execution_count": 6,
   "metadata": {},
   "outputs": [],
   "source": [
    "with open('data/word2idx.txt', \"r\") as f:\n",
    "    word2idx = json.loads(f.read())\n",
    "\n",
    "with open('data/idx2word.txt', \"r\") as f:\n",
    "    idx2word = json.loads(f.read())\n",
    "\n",
    "with open('data/vocab.txt', \"rb\") as f:\n",
    "    vocab = pickle.load(f)"
   ]
  },
  {
   "cell_type": "code",
   "execution_count": 84,
   "metadata": {},
   "outputs": [
    {
     "data": {
      "text/plain": [
       "243607"
      ]
     },
     "execution_count": 84,
     "metadata": {},
     "output_type": "execute_result"
    }
   ],
   "source": [
    "len(vocab)"
   ]
  },
  {
   "cell_type": "code",
   "execution_count": 85,
   "metadata": {},
   "outputs": [
    {
     "data": {
      "text/plain": [
       "467802"
      ]
     },
     "execution_count": 85,
     "metadata": {},
     "output_type": "execute_result"
    }
   ],
   "source": [
    "comment = pd.read_csv('data/combined.csv')\n",
    "len(comment)"
   ]
  },
  {
   "cell_type": "markdown",
   "metadata": {},
   "source": [
    "### Embedding training with Word2Vec"
   ]
  },
  {
   "cell_type": "code",
   "execution_count": null,
   "metadata": {},
   "outputs": [],
   "source": [
    "comment = pd.read_csv('data/combined.csv')\n",
    "post = comment['content'].tolist()\n",
    "sents = sent_tokenizer(post)\n",
    "\n",
    "tokenized_sents = []\n",
    "\"\"\"tokenize word in list of sentences\"\"\"\n",
    "for p in sents:\n",
    "    for sent in p:\n",
    "        sent = re.sub(r'([^A-Za-z0-9 \\']+)', r' \\1 ', sent)\n",
    "        sent = sent.replace('\\'', '\\'')\n",
    "        sent = sent.split()\n",
    "        tokenized_sents.append(sent)"
   ]
  },
  {
   "cell_type": "code",
   "execution_count": 14,
   "metadata": {
    "scrolled": true
   },
   "outputs": [],
   "source": [
    "\"\"\"word vectors with embed_dim = 100\"\"\"\n",
    "w2v_model = Word2Vec(tokenized_sents, min_count=1, size=100, workers=3, window=5, iter=100)\n",
    "w2v_model.save('word2vec_model2.model') \n",
    "pretrained_weights = w2v_model.wv.vectors"
   ]
  },
  {
   "cell_type": "code",
   "execution_count": null,
   "metadata": {},
   "outputs": [],
   "source": [
    "\"\"\"generate vocab, idx2word, and word2idx\"\"\"\n",
    "idx2word = {}\n",
    "word2idx = {}\n",
    "for i in range(len(model.wv.index2word)):\n",
    "    word = model.wv.index2word[i]\n",
    "    idx2word[i] = word\n",
    "    word2idx[word] = i\n",
    "\n",
    "vocab = [*model.wv.vocab]\n",
    "\n",
    "with open('vocab.txt', \"wb\") as f:\n",
    "    pickle.dump(vocab, f)\n",
    "\n",
    "with open('word2idx.txt', \"w\") as f:\n",
    "    f.write(json.dumps(word2idx))\n",
    "    \n",
    "with open('idx2word.txt', \"w\") as f:\n",
    "    f.write(json.dumps(idx2word))"
   ]
  },
  {
   "cell_type": "markdown",
   "metadata": {},
   "source": [
    "### Multi-label Classifier with RNN\n",
    "\n",
    "Training set: 2000\n",
    "\n",
    "Test set: 200"
   ]
  },
  {
   "cell_type": "code",
   "execution_count": 159,
   "metadata": {},
   "outputs": [],
   "source": [
    "\"\"\"load pre-trained word vectors\"\"\"\n",
    "pretrained_model = gensim.models.Word2Vec.load(\"w2v_model/word2vec_model2.model\")\n",
    "pretrained_weights = pretrained_model.wv.vectors"
   ]
  },
  {
   "cell_type": "code",
   "execution_count": 160,
   "metadata": {},
   "outputs": [],
   "source": [
    "max_words = int(len(vocab))\n",
    "embed_size = 100\n",
    "max_len = 500\n",
    "embedding_dim = 100"
   ]
  },
  {
   "cell_type": "code",
   "execution_count": 161,
   "metadata": {},
   "outputs": [],
   "source": [
    "train_path = 'data/sample_LIWC.csv'\n",
    "training = pd.read_csv(train_path)\n",
    "training = shuffle(training)\n",
    "categories = ['emotional support', 'non-emotional support']"
   ]
  },
  {
   "cell_type": "code",
   "execution_count": 162,
   "metadata": {},
   "outputs": [
    {
     "data": {
      "text/plain": [
       "label_e  label_n\n",
       "0        0            5\n",
       "         1          889\n",
       "1        0          192\n",
       "         1          914\n",
       "dtype: int64"
      ]
     },
     "execution_count": 162,
     "metadata": {},
     "output_type": "execute_result"
    }
   ],
   "source": [
    "\"\"\"distribution\"\"\"\n",
    "training.groupby(['label_e','label_n']).size()"
   ]
  },
  {
   "cell_type": "code",
   "execution_count": 163,
   "metadata": {},
   "outputs": [],
   "source": [
    "x_train = word_tokenizer(training['content'].str.lower().tolist())\n",
    "y_train = training[['label_e', 'label_n']].values\n",
    "e_train = training[['label_e']].values\n",
    "n_train = training[['label_n']].values\n",
    "tf_tokenizer = tf.keras.preprocessing.text.Tokenizer(num_words=max_words, lower=True)\n",
    "tf_tokenizer.fit_on_texts(x_train)\n",
    "\n",
    "x_train = tf_tokenizer.texts_to_sequences(x_train)\n",
    "x_train = tf.keras.preprocessing.sequence.pad_sequences(x_train, maxlen=max_len)"
   ]
  },
  {
   "cell_type": "code",
   "execution_count": 171,
   "metadata": {},
   "outputs": [
    {
     "name": "stdout",
     "output_type": "stream",
     "text": [
      "Model: \"sequential_23\"\n",
      "_________________________________________________________________\n",
      "Layer (type)                 Output Shape              Param #   \n",
      "=================================================================\n",
      "embedding_23 (Embedding)     (None, None, 100)         24360700  \n",
      "_________________________________________________________________\n",
      "bidirectional_23 (Bidirectio (None, 200)               160800    \n",
      "_________________________________________________________________\n",
      "dense_46 (Dense)             (None, 100)               20100     \n",
      "_________________________________________________________________\n",
      "dense_47 (Dense)             (None, 2)                 202       \n",
      "=================================================================\n",
      "Total params: 24,541,802\n",
      "Trainable params: 24,541,802\n",
      "Non-trainable params: 0\n",
      "_________________________________________________________________\n"
     ]
    }
   ],
   "source": [
    "model = tf.keras.Sequential([\n",
    "    tf.keras.layers.Embedding(len(vocab), embedding_dim, weights = [pretrained_weights]),\n",
    "    tf.keras.layers.Bidirectional(tf.keras.layers.LSTM(embedding_dim,\n",
    "                                                       kernel_regularizer=tf.keras.regularizers.l2(0.001),\n",
    "                                                       recurrent_regularizer=tf.keras.regularizers.l2(0.001),\n",
    "                                                       bias_regularizer=tf.keras.regularizers.l2(0.001))),\n",
    "    tf.keras.layers.Dense(embedding_dim, activation='sigmoid',\n",
    "                          kernel_regularizer=tf.keras.regularizers.l1(0.001),\n",
    "                          activity_regularizer=tf.keras.regularizers.l2(0.001)),\n",
    "    tf.keras.layers.Dense(2, activation='sigmoid')\n",
    "])\n",
    "model.summary()"
   ]
  },
  {
   "cell_type": "code",
   "execution_count": 172,
   "metadata": {
    "scrolled": true
   },
   "outputs": [
    {
     "name": "stdout",
     "output_type": "stream",
     "text": [
      "Epoch 1/20\n",
      "50/50 - 27s - loss: 1.9019 - binary_accuracy: 0.7241 - categorical_accuracy: 0.4419 - val_loss: 1.2976 - val_binary_accuracy: 0.7950 - val_categorical_accuracy: 0.4550\n",
      "Epoch 2/20\n",
      "50/50 - 27s - loss: 1.0180 - binary_accuracy: 0.7978 - categorical_accuracy: 0.4769 - val_loss: 0.8509 - val_binary_accuracy: 0.7850 - val_categorical_accuracy: 0.5550\n",
      "Epoch 3/20\n",
      "50/50 - 27s - loss: 0.7610 - binary_accuracy: 0.8294 - categorical_accuracy: 0.5194 - val_loss: 0.7211 - val_binary_accuracy: 0.8300 - val_categorical_accuracy: 0.5625\n",
      "Epoch 4/20\n",
      "50/50 - 27s - loss: 0.6553 - binary_accuracy: 0.8547 - categorical_accuracy: 0.5819 - val_loss: 0.6731 - val_binary_accuracy: 0.8225 - val_categorical_accuracy: 0.6150\n",
      "Epoch 5/20\n",
      "50/50 - 27s - loss: 0.5960 - binary_accuracy: 0.8694 - categorical_accuracy: 0.6344 - val_loss: 0.6424 - val_binary_accuracy: 0.8313 - val_categorical_accuracy: 0.6350\n",
      "Epoch 6/20\n",
      "50/50 - 27s - loss: 0.5522 - binary_accuracy: 0.8838 - categorical_accuracy: 0.6500 - val_loss: 0.6332 - val_binary_accuracy: 0.8225 - val_categorical_accuracy: 0.6450\n",
      "Epoch 7/20\n",
      "50/50 - 27s - loss: 0.5146 - binary_accuracy: 0.8981 - categorical_accuracy: 0.6837 - val_loss: 0.6341 - val_binary_accuracy: 0.8238 - val_categorical_accuracy: 0.6650\n",
      "Epoch 8/20\n",
      "50/50 - 26s - loss: 0.4864 - binary_accuracy: 0.9106 - categorical_accuracy: 0.6881 - val_loss: 0.6233 - val_binary_accuracy: 0.8313 - val_categorical_accuracy: 0.6575\n",
      "Epoch 9/20\n",
      "50/50 - 27s - loss: 0.4640 - binary_accuracy: 0.9247 - categorical_accuracy: 0.7150 - val_loss: 0.6209 - val_binary_accuracy: 0.8413 - val_categorical_accuracy: 0.6750\n",
      "Epoch 10/20\n",
      "50/50 - 26s - loss: 0.4437 - binary_accuracy: 0.9359 - categorical_accuracy: 0.7150 - val_loss: 0.6189 - val_binary_accuracy: 0.8400 - val_categorical_accuracy: 0.6725\n",
      "Epoch 11/20\n",
      "50/50 - 26s - loss: 0.4243 - binary_accuracy: 0.9503 - categorical_accuracy: 0.7362 - val_loss: 0.6214 - val_binary_accuracy: 0.8438 - val_categorical_accuracy: 0.6725\n",
      "Epoch 12/20\n",
      "50/50 - 26s - loss: 0.4097 - binary_accuracy: 0.9597 - categorical_accuracy: 0.7337 - val_loss: 0.6396 - val_binary_accuracy: 0.8263 - val_categorical_accuracy: 0.6825\n",
      "Epoch 13/20\n",
      "50/50 - 26s - loss: 0.3970 - binary_accuracy: 0.9603 - categorical_accuracy: 0.7525 - val_loss: 0.6393 - val_binary_accuracy: 0.8288 - val_categorical_accuracy: 0.6925\n",
      "Epoch 14/20\n",
      "50/50 - 26s - loss: 0.3826 - binary_accuracy: 0.9706 - categorical_accuracy: 0.7788 - val_loss: 0.6293 - val_binary_accuracy: 0.8338 - val_categorical_accuracy: 0.6650\n",
      "Epoch 15/20\n",
      "50/50 - 26s - loss: 0.3700 - binary_accuracy: 0.9747 - categorical_accuracy: 0.7731 - val_loss: 0.6394 - val_binary_accuracy: 0.8338 - val_categorical_accuracy: 0.6950\n"
     ]
    }
   ],
   "source": [
    "num_epoch = 20\n",
    "opt = tf.keras.optimizers.Adam(lr=0.002, beta_1=0.9, beta_2=0.999, epsilon=None, decay=0.01, amsgrad=False)\n",
    "callbacks = [tf.keras.callbacks.EarlyStopping(patience=5, monitor='val_loss', restore_best_weights=True)]\n",
    "\n",
    "model.compile(loss='binary_crossentropy', optimizer=opt, metrics=['binary_accuracy', 'categorical_accuracy'])\n",
    "history = model.fit(x_train, y_train, validation_split=0.2, epochs=num_epoch, callbacks=callbacks, verbose=2)"
   ]
  },
  {
   "cell_type": "code",
   "execution_count": 88,
   "metadata": {},
   "outputs": [],
   "source": [
    "model.save('support_model.h5')"
   ]
  },
  {
   "cell_type": "code",
   "execution_count": 89,
   "metadata": {},
   "outputs": [
    {
     "data": {
      "image/png": "[encoded data removed]",
      "text/plain": [
       "<Figure size 1008x360 with 2 Axes>"
      ]
     },
     "metadata": {
      "needs_background": "light"
     },
     "output_type": "display_data"
    }
   ],
   "source": [
    "baseline = [max(training.groupby(['label_e','label_n']).size())/len(training)]*14\n",
    "\n",
    "hist_plot(history, baseline)"
   ]
  },
  {
   "cell_type": "code",
   "execution_count": 28,
   "metadata": {},
   "outputs": [
    {
     "data": {
      "image/png": "[encoded data removed]",
      "text/plain": [
       "<Figure size 1008x360 with 2 Axes>"
      ]
     },
     "metadata": {
      "needs_background": "light"
     },
     "output_type": "display_data"
    }
   ],
   "source": [
    "\"\"\"baseline for model accuracy evaluation\"\"\"\n",
    "baseline = [max(training.groupby(['label_e','label_n']).size())/len(training)]*19\n",
    "\n",
    "hist_plot(history, baseline)"
   ]
  },
  {
   "cell_type": "markdown",
   "metadata": {},
   "source": [
    "### Single-label classifier"
   ]
  },
  {
   "cell_type": "code",
   "execution_count": 100,
   "metadata": {},
   "outputs": [
    {
     "name": "stdout",
     "output_type": "stream",
     "text": [
      "Model: \"sequential_17\"\n",
      "_________________________________________________________________\n",
      "Layer (type)                 Output Shape              Param #   \n",
      "=================================================================\n",
      "embedding_17 (Embedding)     (None, None, 100)         24360700  \n",
      "_________________________________________________________________\n",
      "bidirectional_17 (Bidirectio (None, 200)               160800    \n",
      "_________________________________________________________________\n",
      "dense_34 (Dense)             (None, 100)               20100     \n",
      "_________________________________________________________________\n",
      "dense_35 (Dense)             (None, 1)                 101       \n",
      "=================================================================\n",
      "Total params: 24,541,701\n",
      "Trainable params: 24,541,701\n",
      "Non-trainable params: 0\n",
      "_________________________________________________________________\n"
     ]
    }
   ],
   "source": [
    "model_e = tf.keras.Sequential([\n",
    "    tf.keras.layers.Embedding(len(vocab), embedding_dim, weights = [pretrained_weights]),\n",
    "    tf.keras.layers.Bidirectional(tf.keras.layers.LSTM(embedding_dim,\n",
    "                                                       kernel_regularizer=tf.keras.regularizers.l2(0.001),\n",
    "                                                       recurrent_regularizer=tf.keras.regularizers.l2(0.001),\n",
    "                                                       bias_regularizer=tf.keras.regularizers.l2(0.001))),\n",
    "    tf.keras.layers.Dense(embedding_dim, activation='sigmoid', \n",
    "                          kernel_regularizer=tf.keras.regularizers.l1(0.001), \n",
    "                          activity_regularizer=tf.keras.regularizers.l2(0.001)),\n",
    "    tf.keras.layers.Dense(1, activation='sigmoid')\n",
    "])\n",
    "\n",
    "model_e.summary()"
   ]
  },
  {
   "cell_type": "code",
   "execution_count": null,
   "metadata": {},
   "outputs": [],
   "source": [
    "moderl_e.compile(loss='binary_crossentropy', optimizer=opt, metrics=['accuracy'])\n",
    "opt = tf.keras.optimizers.Adam(lr=0.0005, beta_1=0.9, beta_2=0.999, epsilon=None, decay=0.01, amsgrad=False)\n",
    "history_e = model_e.fit(x_train, e_train, validation_split=0.2, epochs=num_epoch, callbacks=callbacks, verbose=2)"
   ]
  },
  {
   "cell_type": "code",
   "execution_count": 97,
   "metadata": {},
   "outputs": [],
   "source": [
    "model_e.save('emo_model1.h5')"
   ]
  },
  {
   "cell_type": "code",
   "execution_count": 105,
   "metadata": {},
   "outputs": [
    {
     "name": "stdout",
     "output_type": "stream",
     "text": [
      "Model: \"sequential_19\"\n",
      "_________________________________________________________________\n",
      "Layer (type)                 Output Shape              Param #   \n",
      "=================================================================\n",
      "embedding_19 (Embedding)     (None, None, 100)         24360700  \n",
      "_________________________________________________________________\n",
      "bidirectional_19 (Bidirectio (None, 200)               160800    \n",
      "_________________________________________________________________\n",
      "dense_38 (Dense)             (None, 100)               20100     \n",
      "_________________________________________________________________\n",
      "dense_39 (Dense)             (None, 1)                 101       \n",
      "=================================================================\n",
      "Total params: 24,541,701\n",
      "Trainable params: 24,541,701\n",
      "Non-trainable params: 0\n",
      "_________________________________________________________________\n"
     ]
    }
   ],
   "source": [
    "model_n = tf.keras.Sequential([\n",
    "    tf.keras.layers.Embedding(len(vocab), embedding_dim, weights = [pretrained_weights]),\n",
    "    tf.keras.layers.Bidirectional(tf.keras.layers.LSTM(embedding_dim,\n",
    "                                                       kernel_regularizer=tf.keras.regularizers.l2(0.001),\n",
    "                                                       recurrent_regularizer=tf.keras.regularizers.l2(0.001),\n",
    "                                                       bias_regularizer=tf.keras.regularizers.l2(0.001))),\n",
    "    tf.keras.layers.Dense(embedding_dim, activation='sigmoid', \n",
    "                          kernel_regularizer=tf.keras.regularizers.l1(0.001), \n",
    "                          activity_regularizer=tf.keras.regularizers.l2(0.001)),\n",
    "    tf.keras.layers.Dense(1, activation='sigmoid')\n",
    "])\n",
    "\n",
    "model_n.summary()"
   ]
  },
  {
   "cell_type": "code",
   "execution_count": 106,
   "metadata": {
    "scrolled": true
   },
   "outputs": [
    {
     "name": "stdout",
     "output_type": "stream",
     "text": [
      "Epoch 1/20\n",
      "50/50 - 27s - loss: 1.3263 - accuracy: 0.9031 - val_loss: 0.6603 - val_accuracy: 0.8950\n",
      "Epoch 2/20\n",
      "50/50 - 27s - loss: 0.5975 - accuracy: 0.9031 - val_loss: 0.4855 - val_accuracy: 0.9150\n",
      "Epoch 3/20\n",
      "50/50 - 27s - loss: 0.4359 - accuracy: 0.9219 - val_loss: 0.4509 - val_accuracy: 0.9300\n",
      "Epoch 4/20\n",
      "50/50 - 27s - loss: 0.3813 - accuracy: 0.9400 - val_loss: 0.4259 - val_accuracy: 0.9325\n",
      "Epoch 5/20\n",
      "50/50 - 27s - loss: 0.3480 - accuracy: 0.9525 - val_loss: 0.4160 - val_accuracy: 0.9175\n",
      "Epoch 6/20\n",
      "50/50 - 26s - loss: 0.3137 - accuracy: 0.9675 - val_loss: 0.4045 - val_accuracy: 0.9250\n",
      "Epoch 7/20\n",
      "50/50 - 26s - loss: 0.2976 - accuracy: 0.9694 - val_loss: 0.3944 - val_accuracy: 0.9300\n",
      "Epoch 8/20\n",
      "50/50 - 27s - loss: 0.2854 - accuracy: 0.9775 - val_loss: 0.3932 - val_accuracy: 0.9250\n",
      "Epoch 9/20\n",
      "50/50 - 26s - loss: 0.2666 - accuracy: 0.9825 - val_loss: 0.3875 - val_accuracy: 0.9350\n",
      "Epoch 10/20\n",
      "50/50 - 26s - loss: 0.2487 - accuracy: 0.9862 - val_loss: 0.3907 - val_accuracy: 0.9325\n",
      "Epoch 11/20\n",
      "50/50 - 26s - loss: 0.2374 - accuracy: 0.9887 - val_loss: 0.3865 - val_accuracy: 0.9225\n",
      "Epoch 12/20\n",
      "50/50 - 26s - loss: 0.2285 - accuracy: 0.9894 - val_loss: 0.3877 - val_accuracy: 0.9250\n",
      "Epoch 13/20\n",
      "50/50 - 26s - loss: 0.2204 - accuracy: 0.9887 - val_loss: 0.3854 - val_accuracy: 0.9300\n",
      "Epoch 14/20\n",
      "50/50 - 26s - loss: 0.2122 - accuracy: 0.9912 - val_loss: 0.3826 - val_accuracy: 0.9300\n",
      "Epoch 15/20\n",
      "50/50 - 27s - loss: 0.2134 - accuracy: 0.9894 - val_loss: 0.3760 - val_accuracy: 0.9225\n",
      "Epoch 16/20\n",
      "50/50 - 26s - loss: 0.2048 - accuracy: 0.9912 - val_loss: 0.3785 - val_accuracy: 0.9225\n",
      "Epoch 17/20\n",
      "50/50 - 26s - loss: 0.1968 - accuracy: 0.9931 - val_loss: 0.3791 - val_accuracy: 0.9200\n",
      "Epoch 18/20\n",
      "50/50 - 26s - loss: 0.1910 - accuracy: 0.9944 - val_loss: 0.3752 - val_accuracy: 0.9250\n",
      "Epoch 19/20\n",
      "50/50 - 26s - loss: 0.1863 - accuracy: 0.9950 - val_loss: 0.3788 - val_accuracy: 0.9200\n",
      "Epoch 20/20\n",
      "50/50 - 27s - loss: 0.1822 - accuracy: 0.9944 - val_loss: 0.3779 - val_accuracy: 0.9225\n"
     ]
    }
   ],
   "source": [
    "model_n.compile(loss='binary_crossentropy', optimizer=opt, metrics=['accuracy'])\n",
    "opt = tf.keras.optimizers.Adam(lr=0.003, beta_1=0.9, beta_2=0.999, epsilon=None, decay=0.01, amsgrad=False)\n",
    "history_n = model_n.fit(x_train, n_train, validation_split=0.2, epochs=num_epoch, callbacks=callbacks, verbose=2)"
   ]
  },
  {
   "cell_type": "code",
   "execution_count": 49,
   "metadata": {},
   "outputs": [],
   "source": [
    "model_n.save('nonemo_model.h5')"
   ]
  },
  {
   "cell_type": "code",
   "execution_count": 95,
   "metadata": {},
   "outputs": [],
   "source": [
    "\"\"\"baseline for model accuracy evaluation\"\"\"\n",
    "baseline_e = [max(training.groupby(['label_e']).size())/len(training)]*11\n",
    "baseline_n = [max(training.groupby(['label_n']).size())/len(training)]*19"
   ]
  },
  {
   "cell_type": "code",
   "execution_count": 96,
   "metadata": {},
   "outputs": [
    {
     "data": {
      "image/png": "[encoded data removed]",
      "text/plain": [
       "<Figure size 1008x360 with 2 Axes>"
      ]
     },
     "metadata": {
      "needs_background": "light"
     },
     "output_type": "display_data"
    }
   ],
   "source": [
    "hist_plot(history_e, baseline_e)"
   ]
  },
  {
   "cell_type": "code",
   "execution_count": 52,
   "metadata": {},
   "outputs": [
    {
     "data": {
      "image/png": "[encoded data removed]",
      "text/plain": [
       "<Figure size 1008x360 with 2 Axes>"
      ]
     },
     "metadata": {
      "needs_background": "light"
     },
     "output_type": "display_data"
    }
   ],
   "source": [
    "hist_plot(history_n, baseline_n)"
   ]
  },
  {
   "cell_type": "markdown",
   "metadata": {},
   "source": [
    "### Balanced Non-emotional Sample\n",
    "\n",
    "A more balanced sample for non-emotional support is used in this model, with baseline accuracy around .5.\n",
    "\n",
    "This model can be used for feature learning instead of classification."
   ]
  },
  {
   "cell_type": "code",
   "execution_count": 79,
   "metadata": {},
   "outputs": [],
   "source": [
    "training_n1 = training[training['label_n'] == 1]\n",
    "training_n = training[training['label_n'] == 0]\n",
    "training_n1 = training_n1.sample(150)\n",
    "training_n = training_n.append(training_n1)\n",
    "training_n = shuffle(training_n)\n",
    "\n",
    "x_n = word_tokenizer(training_n['content'].str.lower().tolist())\n",
    "y_n = training_n[['label_n']].values\n",
    "tf_tokenizer = tf.keras.preprocessing.text.Tokenizer(num_words=max_words, lower=True)\n",
    "tf_tokenizer.fit_on_texts(x_n)\n",
    "\n",
    "x_n = tf_tokenizer.texts_to_sequences(x_n)\n",
    "x_n = tf.keras.preprocessing.sequence.pad_sequences(x_n, maxlen=max_len)"
   ]
  },
  {
   "cell_type": "code",
   "execution_count": 59,
   "metadata": {},
   "outputs": [],
   "source": [
    "model_nb = tf.keras.Sequential([\n",
    "    tf.keras.layers.Embedding(len(vocab), embedding_dim, weights = [pretrained_weights]),\n",
    "    tf.keras.layers.Bidirectional(tf.keras.layers.LSTM(embedding_dim,\n",
    "                                                       kernel_regularizer=tf.keras.regularizers.l2(0.001),\n",
    "                                                       recurrent_regularizer=tf.keras.regularizers.l2(0.001),\n",
    "                                                       bias_regularizer=tf.keras.regularizers.l2(0.001))),\n",
    "    tf.keras.layers.Dense(embedding_dim, activation='sigmoid', kernel_regularizer=tf.keras.regularizers.l1(0.001), activity_regularizer=tf.keras.regularizers.l2(0.001)),\n",
    "    tf.keras.layers.Dense(1, activation='sigmoid')\n",
    "])"
   ]
  },
  {
   "cell_type": "code",
   "execution_count": 60,
   "metadata": {},
   "outputs": [
    {
     "name": "stdout",
     "output_type": "stream",
     "text": [
      "Epoch 1/10\n",
      "7/7 - 4s - loss: 2.8446 - accuracy: 0.5714 - val_loss: 2.6891 - val_accuracy: 0.7818\n",
      "Epoch 2/10\n",
      "7/7 - 4s - loss: 2.6228 - accuracy: 0.7235 - val_loss: 2.5310 - val_accuracy: 0.8182\n",
      "Epoch 3/10\n",
      "7/7 - 4s - loss: 2.4522 - accuracy: 0.7834 - val_loss: 2.3692 - val_accuracy: 0.7636\n",
      "Epoch 4/10\n",
      "7/7 - 4s - loss: 2.2961 - accuracy: 0.7788 - val_loss: 2.2298 - val_accuracy: 0.8000\n",
      "Epoch 5/10\n",
      "7/7 - 4s - loss: 2.1354 - accuracy: 0.8571 - val_loss: 2.1154 - val_accuracy: 0.8000\n",
      "Epoch 6/10\n",
      "7/7 - 4s - loss: 1.9858 - accuracy: 0.9032 - val_loss: 1.9910 - val_accuracy: 0.8182\n",
      "Epoch 7/10\n",
      "7/7 - 4s - loss: 1.8425 - accuracy: 0.9124 - val_loss: 1.8889 - val_accuracy: 0.8364\n",
      "Epoch 8/10\n",
      "7/7 - 4s - loss: 1.7146 - accuracy: 0.9493 - val_loss: 1.8184 - val_accuracy: 0.8364\n",
      "Epoch 9/10\n",
      "7/7 - 4s - loss: 1.5981 - accuracy: 0.9631 - val_loss: 1.7435 - val_accuracy: 0.8182\n",
      "Epoch 10/10\n",
      "7/7 - 4s - loss: 1.4938 - accuracy: 0.9677 - val_loss: 1.7109 - val_accuracy: 0.8364\n"
     ]
    }
   ],
   "source": [
    "model_nb.compile(loss='binary_crossentropy', optimizer=opt, metrics=['accuracy'])\n",
    "opt = tf.keras.optimizers.Adam(lr=0.001, beta_1=0.9, beta_2=0.999, epsilon=None, decay=0.01, amsgrad=False)\n",
    "history_nb = model_nb.fit(x_n, y_n, validation_split=0.2, epochs=num_epoch, callbacks=callbacks, verbose=2)"
   ]
  },
  {
   "cell_type": "code",
   "execution_count": 61,
   "metadata": {},
   "outputs": [
    {
     "data": {
      "image/png": "[encoded data removed]",
      "text/plain": [
       "<Figure size 1008x360 with 2 Axes>"
      ]
     },
     "metadata": {
      "needs_background": "light"
     },
     "output_type": "display_data"
    }
   ],
   "source": [
    "baseline_n = [max(training_n.groupby(['label_n']).size())/len(training_n)]*10\n",
    "hist_plot(history_nb, baseline_n)"
   ]
  },
  {
   "cell_type": "code",
   "execution_count": null,
   "metadata": {},
   "outputs": [],
   "source": [
    "model_nb.save('nonemo_model_balanced.h5')"
   ]
  },
  {
   "cell_type": "markdown",
   "metadata": {},
   "source": [
    "### Classifier Testing\n",
    "\n",
    "The models are tested on a test set of 200 posts. The accuracy is shown below."
   ]
  },
  {
   "cell_type": "code",
   "execution_count": null,
   "metadata": {},
   "outputs": [],
   "source": [
    "model = tf.keras.models.load_model('support_model.h5')\n",
    "model_e = tf.keras.models.load_model('emo_model1.h5')\n",
    "model_n = tf.keras.models.load_model('nonemo_model.h5')"
   ]
  },
  {
   "cell_type": "code",
   "execution_count": 251,
   "metadata": {},
   "outputs": [],
   "source": [
    "test = pd.read_csv('data/test_LIWC_cat.csv')\n",
    "test = shuffle(test)"
   ]
  },
  {
   "cell_type": "code",
   "execution_count": 252,
   "metadata": {},
   "outputs": [],
   "source": [
    "x_test = word_tokenizer(test['content'].str.lower().tolist())\n",
    "y_test = test[['label_e', 'label_n']].values\n",
    "e_test = test['label_e'].values\n",
    "n_test = test['label_n'].values\n",
    "tf_tokenizer = tf.keras.preprocessing.text.Tokenizer(num_words=max_words, lower=True)\n",
    "tf_tokenizer.fit_on_texts(x_test)\n",
    "\n",
    "x_test = tf_tokenizer.texts_to_sequences(x_test)\n",
    "x_test = tf.keras.preprocessing.sequence.pad_sequences(x_test, maxlen=max_len)"
   ]
  },
  {
   "cell_type": "code",
   "execution_count": 253,
   "metadata": {},
   "outputs": [],
   "source": [
    "baseline = max(test.groupby(['label_e', 'label_n']).size())/len(test)\n",
    "baseline_e = max(test.groupby(['label_e']).size())/len(test)\n",
    "baseline_n = max(test.groupby(['label_n']).size())/len(test)"
   ]
  },
  {
   "cell_type": "code",
   "execution_count": 257,
   "metadata": {},
   "outputs": [],
   "source": [
    "predicted_e = []; predicted_n = []\n",
    "\n",
    "for i in range(len(x_test)):\n",
    "    predicted = model.predict(np.expand_dims(x_test[i], 0))[0].tolist()\n",
    "    pre_e = model_e.predict(np.expand_dims(x_test[i], 0))[0].tolist()\n",
    "    pre_n = model_n.predict(np.expand_dims(x_test[i], 0))[0].tolist()\n",
    "    predicted_e.append(predicted[0])\n",
    "    predicted_n.append(predicted[1])"
   ]
  },
  {
   "cell_type": "code",
   "execution_count": 254,
   "metadata": {
    "scrolled": true
   },
   "outputs": [
    {
     "name": "stdout",
     "output_type": "stream",
     "text": [
      "2/2 [==============================] - 0s 142ms/step - loss: 0.7936 - accuracy: 0.6200\n"
     ]
    }
   ],
   "source": [
    "results = model.evaluate(x_test, y_test, batch_size=100)"
   ]
  },
  {
   "cell_type": "code",
   "execution_count": 255,
   "metadata": {},
   "outputs": [
    {
     "name": "stdout",
     "output_type": "stream",
     "text": [
      "2/2 [==============================] - 0s 130ms/step - loss: 1.1101 - accuracy: 0.6450\n"
     ]
    }
   ],
   "source": [
    "results = model_e.evaluate(x_test, e_test, batch_size=100)"
   ]
  },
  {
   "cell_type": "code",
   "execution_count": 256,
   "metadata": {},
   "outputs": [
    {
     "name": "stdout",
     "output_type": "stream",
     "text": [
      "2/2 [==============================] - 0s 129ms/step - loss: 0.5292 - accuracy: 0.8900\n"
     ]
    }
   ],
   "source": [
    "results = model_n.evaluate(x_test, n_test, batch_size=100)"
   ]
  },
  {
   "cell_type": "markdown",
   "metadata": {},
   "source": [
    "### Hidden layer interpretation\n",
    "\n",
    "Probing tasks are used to interpret embeddings of this classifier in terms of linguistic features.\n",
    "\n",
    "\n",
    "#### Probing task of sentences in Facebook\n",
    "\n",
    "Existing probing tasks are used to evaluate the classifier.\n",
    "\n",
    "    - Word content\n",
    "    - Past or present\n",
    "    \n",
    "The result suggests no significant difference between emotional and nnon-emotional support over these linguistic features."
   ]
  },
  {
   "cell_type": "code",
   "execution_count": 89,
   "metadata": {},
   "outputs": [],
   "source": [
    "fpath = ['probing_test/past_present.txt', 'probing_test/subj_number.txt', 'probing_test/obj_number.txt', 'probing_test/coordination_inversion.txt']\n",
    "\n",
    "task_data = {'train': {'x': [], 'y': []},\n",
    "                 'dev': {'x': [], 'y': []},\n",
    "                 'test': {'x': [], 'y': []}}\n",
    "tok2split = {'tr': 'train', 'va': 'dev', 'te': 'test'}\n",
    "\n",
    "with io.open(fpath[0], 'r', encoding='utf-8') as f:\n",
    "    for line in f:\n",
    "        line = line.rstrip().split('\\t')\n",
    "        task_data[tok2split[line[0]]]['x'].append(line[-1].split())\n",
    "        task_data[tok2split[line[0]]]['y'].append(line[1])\n",
    "\n",
    "labels = sorted(np.unique(task_data['train']['y']))\n",
    "tok2label = dict(zip(labels, range(len(labels))))\n",
    "nclasses = len(tok2label)\n",
    "\n",
    "for split in task_data:\n",
    "    for i, y in enumerate(task_data[split]['y']):\n",
    "        task_data[split]['y'][i] = tok2label[y]\n",
    "\n",
    "sent = task_data['test']['x']\n",
    "for i in range(len(sent)):\n",
    "    for k in range(len(sent[i])):\n",
    "        sent[i][k] = sent[i][k].lower()\n",
    "        \n",
    "tf_tokenizer.fit_on_texts(sent)\n",
    "sent = tf_tokenizer.texts_to_sequences(sent)\n",
    "sent = tf.keras.preprocessing.sequence.pad_sequences(sent, maxlen=max_len)"
   ]
  },
  {
   "cell_type": "code",
   "execution_count": 90,
   "metadata": {
    "scrolled": true
   },
   "outputs": [],
   "source": [
    "\"\"\"tense\"\"\"\n",
    "\"\"\"H: posts with emotional support usually uses present tense, posts without usually uses past tense\"\"\"\n",
    "\n",
    "predicted_e = []\n",
    "for i in range(len(sent)):\n",
    "    pre = model_e.predict(np.expand_dims(sent[i], 0))[0]\n",
    "    if pre < .5:\n",
    "        label = 0\n",
    "    else:\n",
    "        label = 1\n",
    "    predicted_e.append(label)\n",
    "    \n",
    "pp = task_data['test']['y']"
   ]
  },
  {
   "cell_type": "code",
   "execution_count": 91,
   "metadata": {},
   "outputs": [],
   "source": [
    "pp_e = [0]*4\n",
    "for i in range(len(sent)):\n",
    "    if pp[i] == 0 and predicted_e[i] == 0:\n",
    "        pp_e[0] += 1\n",
    "    elif pp[i] == 0 and predicted_e[i] == 1:\n",
    "        pp_e[1] += 1\n",
    "    elif pp[i] == 1 and predicted_e[i] == 0:\n",
    "        pp_e[2] += 1\n",
    "    elif pp[i] == 1 and predicted_e[i] == 1:\n",
    "        pp_e[3] += 1"
   ]
  },
  {
   "cell_type": "code",
   "execution_count": 92,
   "metadata": {},
   "outputs": [
    {
     "data": {
      "text/plain": [
       "Power_divergenceResult(statistic=14.256642125157665, pvalue=0.00015949692417089486)"
      ]
     },
     "execution_count": 92,
     "metadata": {},
     "output_type": "execute_result"
    }
   ],
   "source": [
    "chisquare([pp_e[0], pp_e[1]], [pp_e[2], pp_e[3]])"
   ]
  },
  {
   "cell_type": "code",
   "execution_count": 93,
   "metadata": {},
   "outputs": [
    {
     "data": {
      "text/plain": [
       "[2848, 2152, 2715, 2285]"
      ]
     },
     "execution_count": 93,
     "metadata": {},
     "output_type": "execute_result"
    }
   ],
   "source": [
    "pp_e"
   ]
  },
  {
   "cell_type": "code",
   "execution_count": 94,
   "metadata": {},
   "outputs": [],
   "source": [
    "predicted_n = []\n",
    "for i in range(len(sent)):\n",
    "    pre = model_nb.predict(np.expand_dims(sent[i], 0))[0]\n",
    "    if pre < .5:\n",
    "        label = 0\n",
    "    else:\n",
    "        label = 1\n",
    "    predicted_n.append(label)"
   ]
  },
  {
   "cell_type": "code",
   "execution_count": 95,
   "metadata": {},
   "outputs": [],
   "source": [
    "pp_n = [0]*4\n",
    "for i in range(len(sent)):\n",
    "    if pp[i] == 0 and predicted_n[i] == 0:\n",
    "        pp_n[0] += 1\n",
    "    elif pp[i] == 0 and predicted_n[i] == 1:\n",
    "        pp_n[1] += 1\n",
    "    elif pp[i] == 1 and predicted_n[i] == 0:\n",
    "        pp_n[2] += 1\n",
    "    elif pp[i] == 1 and predicted_n[i] == 1:\n",
    "        pp_n[3] += 1"
   ]
  },
  {
   "cell_type": "code",
   "execution_count": 96,
   "metadata": {},
   "outputs": [
    {
     "data": {
      "text/plain": [
       "Power_divergenceResult(statistic=47.14178410071862, pvalue=6.603286448814048e-12)"
      ]
     },
     "execution_count": 96,
     "metadata": {},
     "output_type": "execute_result"
    }
   ],
   "source": [
    "chisquare([pp_n[0]/len(sent), pp_n[1]], [pp_n[2], pp_n[3]])"
   ]
  },
  {
   "cell_type": "code",
   "execution_count": 97,
   "metadata": {},
   "outputs": [
    {
     "data": {
      "text/plain": [
       "[4360, 640, 4505, 495]"
      ]
     },
     "execution_count": 97,
     "metadata": {},
     "output_type": "execute_result"
    }
   ],
   "source": [
    "pp_n"
   ]
  },
  {
   "cell_type": "markdown",
   "metadata": {},
   "source": [
    "### Probing task with LIWC\n",
    "\n",
    "LIWC results are generated for all posts in the test set. Each LIWC variable is compared with the predicted result using correlation.\n",
    "\n",
    "Significant correlations are shown below for emotional and non-emotional support. These might be the features that the model is able to recognize in the hidden layer, to certain degree."
   ]
  },
  {
   "cell_type": "code",
   "execution_count": 258,
   "metadata": {},
   "outputs": [],
   "source": [
    "nonemo_LIWC = []\n",
    "emo_LIWC = []\n",
    "cb_LIWC = []\n",
    "for i in range(4, 97):\n",
    "    corr_e = pearsonr(predicted_e, test.iloc[:,i].tolist())\n",
    "    corr_n = pearsonr(predicted_n, test.iloc[:,i].tolist())\n",
    "    if corr_e[1] < .05:\n",
    "        emo_LIWC.append([test.columns[i], corr_e[0], corr_e[1]])\n",
    "    if corr_n[1] < .05:\n",
    "        nonemo_LIWC.append([test.columns[i], corr_n[0], corr_n[1]])\n",
    "    if corr_e[1] < .05 and corr_n[1] < .05:\n",
    "        cb_LIWC.append([test.columns[i], corr_n[0], corr_n[1], corr_e[0], corr_e[1]])"
   ]
  },
  {
   "cell_type": "code",
   "execution_count": 259,
   "metadata": {},
   "outputs": [],
   "source": [
    "nonemo_LIWC.sort(key = lambda x: x[2])\n",
    "emo_LIWC.sort(key = lambda x: x[2])\n",
    "cb_LIWC.sort(key = lambda x: x[1])"
   ]
  },
  {
   "cell_type": "code",
   "execution_count": 260,
   "metadata": {},
   "outputs": [
    {
     "data": {
      "text/plain": [
       "[['AllPunc', -0.5079463931324072, 1.6241950106127043e-14],\n",
       " ['label_n', 0.5060428622336045, 2.1081847173658826e-14],\n",
       " ['posemo', -0.4798250205003724, 6.52554450907883e-13],\n",
       " ['affect', -0.44436656430057103, 4.355230089738532e-11],\n",
       " ['function.', 0.43720817364669684, 9.605016999338581e-11],\n",
       " ['Exclam', -0.41290421851965514, 1.231861447175569e-09],\n",
       " ['prep', 0.40783027837616864, 2.0462229495526038e-09],\n",
       " ['verb', 0.3248939706673927, 2.6809729572856728e-06],\n",
       " ['differ', 0.31906442188104167, 4.126631469777023e-06],\n",
       " ['Sixltr', -0.3094033819380506, 8.269716824292546e-06],\n",
       " ['adj', -0.3074663591108229, 9.478903962235965e-06],\n",
       " ['tentat', 0.3049070084123374, 1.1335149051749471e-05],\n",
       " ['WPS', 0.3019577542446997, 1.3900494860296484e-05],\n",
       " ['you', -0.2910429812344487, 2.901778206874018e-05],\n",
       " ['cogproc', 0.27651517108450324, 7.383938288549062e-05],\n",
       " ['negate', 0.2622890726472598, 0.00017544364399990563],\n",
       " ['relig', -0.2574450684896825, 0.00023302326643649514],\n",
       " ['focuspresent', 0.24811836478638655, 0.00039637342483472544],\n",
       " ['auxverb', 0.24485536702813915, 0.0004750964063539444],\n",
       " ['WC', 0.24430369744743666, 0.0004897563999189317],\n",
       " ['focuspast', 0.2423629924401482, 0.0005447201461014325],\n",
       " ['Parenth', -0.23473519915586905, 0.0008206919541574738],\n",
       " ['compare', 0.22368436267196926, 0.0014526094165438473],\n",
       " ['i', 0.2185205147289854, 0.0018795511120884886],\n",
       " ['relativ', 0.2176837074296623, 0.0019586332851994235],\n",
       " ['work', 0.21728820610362803, 0.001997054859217509],\n",
       " ['discrep', 0.2163672084032741, 0.0020892010861545763],\n",
       " ['Dic', 0.20822849511029037, 0.0030879977838705963],\n",
       " ['power', 0.2064462829421079, 0.0033575499527319437],\n",
       " ['female', 0.19141464870181227, 0.006623638968835572],\n",
       " ['Period', -0.18981348978455442, 0.0071012024592502715],\n",
       " ['space', 0.18493192315535717, 0.008752037560532562],\n",
       " ['certain', -0.18468007939873282, 0.008845764046907269],\n",
       " ['ipron', 0.18305039690887226, 0.009474068191052091],\n",
       " ['home', -0.18219396816289826, 0.009819832330141736],\n",
       " ['leisure', -0.18108293776105042, 0.010284988764717512],\n",
       " ['Apostro', 0.17939924132015098, 0.011027015029558671],\n",
       " ['shehe', 0.16933734220633254, 0.016524571449852515],\n",
       " ['focusfuture', 0.16377134863046258, 0.02049137738890599],\n",
       " ['quant', 0.16093259042644947, 0.022814658730408388],\n",
       " ['pronoun', 0.15956077615162925, 0.024016508032753348],\n",
       " ['number', 0.1547768558783962, 0.02864341651556991],\n",
       " ['insight', 0.13905812933912276, 0.049552824111514154]]"
      ]
     },
     "execution_count": 260,
     "metadata": {},
     "output_type": "execute_result"
    }
   ],
   "source": [
    "nonemo_LIWC"
   ]
  },
  {
   "cell_type": "code",
   "execution_count": 261,
   "metadata": {},
   "outputs": [
    {
     "data": {
      "text/plain": [
       "[['you', 0.29833189266005394, 1.7809436783542235e-05],\n",
       " ['label_n', -0.27319968229561964, 9.072940295566542e-05],\n",
       " ['Clout', 0.22372204184480649, 0.001449850064863908],\n",
       " ['posemo', 0.21783292579904587, 0.0019443130855085415],\n",
       " ['affect', 0.21489923038694825, 0.002244098203484102],\n",
       " ['social', 0.1988657452014769, 0.0047575121339279765],\n",
       " ['differ', -0.1779860258800045, 0.011685867764650764],\n",
       " ['space', -0.17177083391841405, 0.015012212577027156],\n",
       " ['AllPunc', 0.16941033851519235, 0.016477342833850623],\n",
       " ['certain', 0.16423008627401228, 0.02013583695364544],\n",
       " ['negate', -0.1587916756177375, 0.02471386002187873],\n",
       " ['ppron', 0.1561428953971825, 0.0272503279447674],\n",
       " ['Exclam', 0.14086281307608228, 0.04664101189569067]]"
      ]
     },
     "execution_count": 261,
     "metadata": {},
     "output_type": "execute_result"
    }
   ],
   "source": [
    "emo_LIWC"
   ]
  },
  {
   "cell_type": "code",
   "execution_count": 262,
   "metadata": {},
   "outputs": [
    {
     "data": {
      "text/plain": [
       "[['AllPunc',\n",
       "  -0.5079463931324072,\n",
       "  1.6241950106127043e-14,\n",
       "  0.16941033851519235,\n",
       "  0.016477342833850623],\n",
       " ['posemo',\n",
       "  -0.4798250205003724,\n",
       "  6.52554450907883e-13,\n",
       "  0.21783292579904587,\n",
       "  0.0019443130855085415],\n",
       " ['affect',\n",
       "  -0.44436656430057103,\n",
       "  4.355230089738532e-11,\n",
       "  0.21489923038694825,\n",
       "  0.002244098203484102],\n",
       " ['Exclam',\n",
       "  -0.41290421851965514,\n",
       "  1.231861447175569e-09,\n",
       "  0.14086281307608228,\n",
       "  0.04664101189569067],\n",
       " ['you',\n",
       "  -0.2910429812344487,\n",
       "  2.901778206874018e-05,\n",
       "  0.29833189266005394,\n",
       "  1.7809436783542235e-05],\n",
       " ['certain',\n",
       "  -0.18468007939873282,\n",
       "  0.008845764046907269,\n",
       "  0.16423008627401228,\n",
       "  0.02013583695364544],\n",
       " ['space',\n",
       "  0.18493192315535717,\n",
       "  0.008752037560532562,\n",
       "  -0.17177083391841405,\n",
       "  0.015012212577027156],\n",
       " ['negate',\n",
       "  0.2622890726472598,\n",
       "  0.00017544364399990563,\n",
       "  -0.1587916756177375,\n",
       "  0.02471386002187873],\n",
       " ['differ',\n",
       "  0.31906442188104167,\n",
       "  4.126631469777023e-06,\n",
       "  -0.1779860258800045,\n",
       "  0.011685867764650764],\n",
       " ['label_n',\n",
       "  0.5060428622336045,\n",
       "  2.1081847173658826e-14,\n",
       "  -0.27319968229561964,\n",
       "  9.072940295566542e-05]]"
      ]
     },
     "execution_count": 262,
     "metadata": {},
     "output_type": "execute_result"
    }
   ],
   "source": [
    "cb_LIWC"
   ]
  }
 ],
 "metadata": {
  "kernelspec": {
   "display_name": "Python 3",
   "language": "python",
   "name": "python3"
  },
  "language_info": {
   "codemirror_mode": {
    "name": "ipython",
    "version": 3
   },
   "file_extension": ".py",
   "mimetype": "text/x-python",
   "name": "python",
   "nbconvert_exporter": "python",
   "pygments_lexer": "ipython3",
   "version": "3.6.8"
  }
 },
 "nbformat": 4,
 "nbformat_minor": 2
}
